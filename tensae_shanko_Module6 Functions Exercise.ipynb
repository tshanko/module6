{
 "cells": [
  {
   "cell_type": "markdown",
   "metadata": {},
   "source": [
    "1. Round 4.5667 to the nearest hundreth using a build-in function, round()."
   ]
  },
  {
   "cell_type": "code",
   "execution_count": 3,
   "metadata": {},
   "outputs": [
    {
     "name": "stdout",
     "output_type": "stream",
     "text": [
      "4.6\n"
     ]
    }
   ],
   "source": [
    "x = 4.5667\n",
    "print(round(x,1))"
   ]
  },
  {
   "cell_type": "markdown",
   "metadata": {},
   "source": [
    "2. Convert \"657\" to an integer data type"
   ]
  },
  {
   "cell_type": "code",
   "execution_count": 4,
   "metadata": {},
   "outputs": [
    {
     "name": "stdout",
     "output_type": "stream",
     "text": [
      "657\n"
     ]
    }
   ],
   "source": [
    "var = \"657\"\n",
    "type(var)\n",
    "var = int(var)\n",
    "print(var)"
   ]
  },
  {
   "cell_type": "markdown",
   "metadata": {},
   "source": [
    "3.\n",
    "Write a program to get two numbers from a user. Then, create a secret code where a code consists of 6 numbers and each number is randomly generated number between two numbers from a user. "
   ]
  },
  {
   "cell_type": "code",
   "execution_count": 9,
   "metadata": {},
   "outputs": [
    {
     "name": "stdout",
     "output_type": "stream",
     "text": [
      "provide any integer: 1\n",
      "provide another integer different from the first one: 10\n",
      "[10]\n",
      "[10, 2]\n",
      "[10, 2, 9]\n",
      "[10, 2, 9, 6]\n",
      "[10, 2, 9, 6, 6]\n",
      "[10, 2, 9, 6, 6, 7]\n"
     ]
    }
   ],
   "source": [
    "import random as ran\n",
    "\n",
    "def generateCode():\n",
    "    secretCode = []\n",
    "    x = int(input(\"provide any integer: \"))\n",
    "    y = int(input(\"provide another integer different from the first one: \"))\n",
    "    numb = 6\n",
    "    for n in range(numb):\n",
    "        ran1 = ran.randint(x,y)  # x and y are two integers gathered from the user\n",
    "        secretCode.append(ran1)\n",
    "        x += 1\n",
    "        print(secretCode)\n",
    "        \n",
    "generateCode()\n",
    "    \n",
    "    \n",
    "    "
   ]
  },
  {
   "cell_type": "markdown",
   "metadata": {},
   "source": [
    "4.\n",
    "Write a program to center align below text where number of characters per line is 40:\n",
    "\n",
    "    Hickory, dickory, dock,\n",
    "    The mouse ran up the clock.\n",
    "    The clock struck one,\n",
    "    The mouse ran down,\n",
    "    Hickory, dickory, dock\n",
    "\n",
    "<b>Do not use string's center method! </b>"
   ]
  },
  {
   "cell_type": "code",
   "execution_count": 5,
   "metadata": {},
   "outputs": [],
   "source": [
    "line1 = \"Hickory, dickory, dock,\"\n",
    "line2 = \"The mouse ran up the clock.\"\n",
    "line3 = \"The clock struck one,\"\n",
    "line4 = \"The mouse ran down,\"\n",
    "line5 = \"Hickory, dickory, dock\"\n",
    "\n"
   ]
  },
  {
   "cell_type": "markdown",
   "metadata": {},
   "source": [
    "5. Write a function to calculate the miles per ga\n",
    "Get a miles driven and gallons used from a user and call your function to calculate the miles per gallon.\n",
    "\n",
    "\n",
    "\n",
    "\n",
    "\n",
    "\n"
   ]
  },
  {
   "cell_type": "code",
   "execution_count": 14,
   "metadata": {},
   "outputs": [
    {
     "name": "stdout",
     "output_type": "stream",
     "text": [
      "enter miles driven: 400\n",
      "enter hown many gallons used: 18\n",
      "Your car's mileage is 22/mpg\n"
     ]
    }
   ],
   "source": [
    " def getMpg():\n",
    "    miles = int(input(\"enter miles driven: \"))\n",
    "    gallon = int(input(\"enter hown many gallons used: \"))\n",
    "    mpg = int(miles / gallon)\n",
    "    print(f\"Your car's mileage is {mpg}/mpg\")\n",
    "    return \n",
    "    \n",
    "    \n",
    "getMpg()\n"
   ]
  },
  {
   "cell_type": "code",
   "execution_count": null,
   "metadata": {},
   "outputs": [],
   "source": []
  }
 ],
 "metadata": {
  "kernelspec": {
   "display_name": "Python 3 (ipykernel)",
   "language": "python",
   "name": "python3"
  },
  "language_info": {
   "codemirror_mode": {
    "name": "ipython",
    "version": 3
   },
   "file_extension": ".py",
   "mimetype": "text/x-python",
   "name": "python",
   "nbconvert_exporter": "python",
   "pygments_lexer": "ipython3",
   "version": "3.9.7"
  }
 },
 "nbformat": 4,
 "nbformat_minor": 4
}
